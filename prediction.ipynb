{
 "cells": [
  {
   "cell_type": "markdown",
   "id": "2281ac13",
   "metadata": {},
   "source": [
    "## Continued from the end_to_end_deep_learning_project_with_simple_rnn.ipynb"
   ]
  },
  {
   "cell_type": "code",
   "execution_count": 1,
   "id": "1c6f636c",
   "metadata": {},
   "outputs": [],
   "source": [
    "# Step 1: Import Libraries and Load the Model\n",
    "import numpy as np\n",
    "import tensorflow as tf\n",
    "from tensorflow.keras.datasets import imdb\n",
    "from tensorflow.keras.preprocessing import sequence\n",
    "from tensorflow.keras.models import load_model"
   ]
  },
  {
   "cell_type": "code",
   "execution_count": 2,
   "id": "38396105",
   "metadata": {},
   "outputs": [],
   "source": [
    "# Load the IMDB dataset word index\n",
    "word_index = imdb.get_word_index()\n",
    "reverse_word_index = {value: key for key, value in word_index.items()}"
   ]
  },
  {
   "cell_type": "code",
   "execution_count": 3,
   "id": "fab67452",
   "metadata": {},
   "outputs": [
    {
     "name": "stderr",
     "output_type": "stream",
     "text": [
      "WARNING:absl:Compiled the loaded model, but the compiled metrics have yet to be built. `model.compile_metrics` will be empty until you train or evaluate the model.\n"
     ]
    },
    {
     "data": {
      "text/html": [
       "<pre style=\"white-space:pre;overflow-x:auto;line-height:normal;font-family:Menlo,'DejaVu Sans Mono',consolas,'Courier New',monospace\"><span style=\"font-weight: bold\">Model: \"sequential\"</span>\n",
       "</pre>\n"
      ],
      "text/plain": [
       "\u001b[1mModel: \"sequential\"\u001b[0m\n"
      ]
     },
     "metadata": {},
     "output_type": "display_data"
    },
    {
     "data": {
      "text/html": [
       "<pre style=\"white-space:pre;overflow-x:auto;line-height:normal;font-family:Menlo,'DejaVu Sans Mono',consolas,'Courier New',monospace\">┏━━━━━━━━━━━━━━━━━━━━━━━━━━━━━━━━━┳━━━━━━━━━━━━━━━━━━━━━━━━┳━━━━━━━━━━━━━━━┓\n",
       "┃<span style=\"font-weight: bold\"> Layer (type)                    </span>┃<span style=\"font-weight: bold\"> Output Shape           </span>┃<span style=\"font-weight: bold\">       Param # </span>┃\n",
       "┡━━━━━━━━━━━━━━━━━━━━━━━━━━━━━━━━━╇━━━━━━━━━━━━━━━━━━━━━━━━╇━━━━━━━━━━━━━━━┩\n",
       "│ embedding (<span style=\"color: #0087ff; text-decoration-color: #0087ff\">Embedding</span>)           │ (<span style=\"color: #00d7ff; text-decoration-color: #00d7ff\">None</span>, <span style=\"color: #00af00; text-decoration-color: #00af00\">500</span>, <span style=\"color: #00af00; text-decoration-color: #00af00\">128</span>)       │     <span style=\"color: #00af00; text-decoration-color: #00af00\">1,280,000</span> │\n",
       "├─────────────────────────────────┼────────────────────────┼───────────────┤\n",
       "│ simple_rnn (<span style=\"color: #0087ff; text-decoration-color: #0087ff\">SimpleRNN</span>)          │ (<span style=\"color: #00d7ff; text-decoration-color: #00d7ff\">None</span>, <span style=\"color: #00af00; text-decoration-color: #00af00\">128</span>)            │        <span style=\"color: #00af00; text-decoration-color: #00af00\">32,896</span> │\n",
       "├─────────────────────────────────┼────────────────────────┼───────────────┤\n",
       "│ dense (<span style=\"color: #0087ff; text-decoration-color: #0087ff\">Dense</span>)                   │ (<span style=\"color: #00d7ff; text-decoration-color: #00d7ff\">None</span>, <span style=\"color: #00af00; text-decoration-color: #00af00\">1</span>)              │           <span style=\"color: #00af00; text-decoration-color: #00af00\">129</span> │\n",
       "└─────────────────────────────────┴────────────────────────┴───────────────┘\n",
       "</pre>\n"
      ],
      "text/plain": [
       "┏━━━━━━━━━━━━━━━━━━━━━━━━━━━━━━━━━┳━━━━━━━━━━━━━━━━━━━━━━━━┳━━━━━━━━━━━━━━━┓\n",
       "┃\u001b[1m \u001b[0m\u001b[1mLayer (type)                   \u001b[0m\u001b[1m \u001b[0m┃\u001b[1m \u001b[0m\u001b[1mOutput Shape          \u001b[0m\u001b[1m \u001b[0m┃\u001b[1m \u001b[0m\u001b[1m      Param #\u001b[0m\u001b[1m \u001b[0m┃\n",
       "┡━━━━━━━━━━━━━━━━━━━━━━━━━━━━━━━━━╇━━━━━━━━━━━━━━━━━━━━━━━━╇━━━━━━━━━━━━━━━┩\n",
       "│ embedding (\u001b[38;5;33mEmbedding\u001b[0m)           │ (\u001b[38;5;45mNone\u001b[0m, \u001b[38;5;34m500\u001b[0m, \u001b[38;5;34m128\u001b[0m)       │     \u001b[38;5;34m1,280,000\u001b[0m │\n",
       "├─────────────────────────────────┼────────────────────────┼───────────────┤\n",
       "│ simple_rnn (\u001b[38;5;33mSimpleRNN\u001b[0m)          │ (\u001b[38;5;45mNone\u001b[0m, \u001b[38;5;34m128\u001b[0m)            │        \u001b[38;5;34m32,896\u001b[0m │\n",
       "├─────────────────────────────────┼────────────────────────┼───────────────┤\n",
       "│ dense (\u001b[38;5;33mDense\u001b[0m)                   │ (\u001b[38;5;45mNone\u001b[0m, \u001b[38;5;34m1\u001b[0m)              │           \u001b[38;5;34m129\u001b[0m │\n",
       "└─────────────────────────────────┴────────────────────────┴───────────────┘\n"
      ]
     },
     "metadata": {},
     "output_type": "display_data"
    },
    {
     "data": {
      "text/html": [
       "<pre style=\"white-space:pre;overflow-x:auto;line-height:normal;font-family:Menlo,'DejaVu Sans Mono',consolas,'Courier New',monospace\"><span style=\"font-weight: bold\"> Total params: </span><span style=\"color: #00af00; text-decoration-color: #00af00\">1,313,027</span> (5.01 MB)\n",
       "</pre>\n"
      ],
      "text/plain": [
       "\u001b[1m Total params: \u001b[0m\u001b[38;5;34m1,313,027\u001b[0m (5.01 MB)\n"
      ]
     },
     "metadata": {},
     "output_type": "display_data"
    },
    {
     "data": {
      "text/html": [
       "<pre style=\"white-space:pre;overflow-x:auto;line-height:normal;font-family:Menlo,'DejaVu Sans Mono',consolas,'Courier New',monospace\"><span style=\"font-weight: bold\"> Trainable params: </span><span style=\"color: #00af00; text-decoration-color: #00af00\">1,313,025</span> (5.01 MB)\n",
       "</pre>\n"
      ],
      "text/plain": [
       "\u001b[1m Trainable params: \u001b[0m\u001b[38;5;34m1,313,025\u001b[0m (5.01 MB)\n"
      ]
     },
     "metadata": {},
     "output_type": "display_data"
    },
    {
     "data": {
      "text/html": [
       "<pre style=\"white-space:pre;overflow-x:auto;line-height:normal;font-family:Menlo,'DejaVu Sans Mono',consolas,'Courier New',monospace\"><span style=\"font-weight: bold\"> Non-trainable params: </span><span style=\"color: #00af00; text-decoration-color: #00af00\">0</span> (0.00 B)\n",
       "</pre>\n"
      ],
      "text/plain": [
       "\u001b[1m Non-trainable params: \u001b[0m\u001b[38;5;34m0\u001b[0m (0.00 B)\n"
      ]
     },
     "metadata": {},
     "output_type": "display_data"
    },
    {
     "data": {
      "text/html": [
       "<pre style=\"white-space:pre;overflow-x:auto;line-height:normal;font-family:Menlo,'DejaVu Sans Mono',consolas,'Courier New',monospace\"><span style=\"font-weight: bold\"> Optimizer params: </span><span style=\"color: #00af00; text-decoration-color: #00af00\">2</span> (12.00 B)\n",
       "</pre>\n"
      ],
      "text/plain": [
       "\u001b[1m Optimizer params: \u001b[0m\u001b[38;5;34m2\u001b[0m (12.00 B)\n"
      ]
     },
     "metadata": {},
     "output_type": "display_data"
    }
   ],
   "source": [
    "## load the pre-trained model from the h5 file\n",
    "model = load_model('simple_rnn_imdb.h5')\n",
    "model.summary()"
   ]
  },
  {
   "cell_type": "code",
   "execution_count": null,
   "id": "bb479e95",
   "metadata": {},
   "outputs": [
    {
     "data": {
      "text/plain": [
       "[array([[ 0.08573652,  0.6356887 ,  0.00897625, ...,  0.01598946,\n",
       "          0.04903669, -0.194749  ],\n",
       "        [-0.03547102, -0.00600403, -0.03801378, ..., -0.0139704 ,\n",
       "          0.0189407 , -0.01571501],\n",
       "        [ 0.15275319, -0.06821179,  0.15577567, ..., -0.06680115,\n",
       "         -0.14212245, -0.04797087],\n",
       "        ...,\n",
       "        [-0.06241744,  0.05519564, -0.02897091, ..., -0.0226961 ,\n",
       "          0.12067895, -0.11393664],\n",
       "        [ 0.04207254,  0.05766165, -0.06133961, ..., -0.08620656,\n",
       "          0.02311658,  0.02719539],\n",
       "        [ 0.0057141 , -0.11938003, -0.02022778, ..., -0.11882737,\n",
       "         -0.08543955,  0.13989584]], shape=(10000, 128), dtype=float32),\n",
       " array([[-0.02697892, -0.09871615, -0.03989437, ...,  0.12754959,\n",
       "         -0.01232489,  0.06036583],\n",
       "        [ 0.10988855, -0.00753654,  0.05658916, ..., -0.04983818,\n",
       "         -0.00334148, -0.06696627],\n",
       "        [-0.12069405,  0.02582573,  0.1542627 , ..., -0.0630514 ,\n",
       "         -0.04334895, -0.12523694],\n",
       "        ...,\n",
       "        [ 0.12611641, -0.16165504, -0.1108577 , ..., -0.16365491,\n",
       "         -0.12187166,  0.05972272],\n",
       "        [-0.12957963,  0.1362128 ,  0.05506036, ...,  0.00898083,\n",
       "          0.09612855,  0.04797424],\n",
       "        [ 0.0866359 ,  0.02106418, -0.09850301, ...,  0.12938821,\n",
       "         -0.07601407,  0.14008062]], shape=(128, 128), dtype=float32),\n",
       " array([[-9.4257735e-02, -1.5863943e-01,  3.2203659e-02, ...,\n",
       "          2.6204733e-02, -6.2490419e-02, -3.6970437e-02],\n",
       "        [ 6.6499710e-02, -2.0734696e-01,  4.3456932e-03, ...,\n",
       "          8.0187045e-02, -1.7697512e-01,  1.0747920e-03],\n",
       "        [ 4.1802030e-02, -1.3079993e-01,  3.9610162e-02, ...,\n",
       "         -4.8291169e-02, -3.3817668e-02, -1.1042036e-02],\n",
       "        ...,\n",
       "        [-2.7659092e-02, -3.6502488e-02, -1.7243232e-01, ...,\n",
       "         -1.9662145e-04, -3.4742542e-02,  7.7820927e-02],\n",
       "        [ 1.0436652e-01,  1.6951409e-01, -1.5873700e-01, ...,\n",
       "          4.6490617e-02, -5.0289884e-02, -3.7959469e-03],\n",
       "        [-8.6914614e-02,  1.5743169e-01, -8.9894690e-02, ...,\n",
       "          6.0883880e-02,  4.9547210e-02,  1.8635193e-01]],\n",
       "       shape=(128, 128), dtype=float32),\n",
       " array([-0.02537508, -0.03719145,  0.00910517,  0.01676784, -0.01558053,\n",
       "         0.00301729,  0.00132863, -0.05774692, -0.00475923,  0.00448126,\n",
       "        -0.03147699, -0.05255472, -0.02362143,  0.0064223 ,  0.0122558 ,\n",
       "        -0.0246599 , -0.0494484 ,  0.0053911 , -0.01925564, -0.03485247,\n",
       "        -0.00932391, -0.04284973,  0.03359386,  0.0052979 , -0.04346906,\n",
       "        -0.03062817, -0.03823296, -0.01723179,  0.03286166, -0.03583818,\n",
       "        -0.00264626, -0.00613111,  0.00943108, -0.01733899, -0.00253258,\n",
       "        -0.02289731, -0.02408294, -0.01877087, -0.00596163, -0.04239056,\n",
       "        -0.04206515,  0.01554281, -0.0225809 , -0.04376082, -0.04487563,\n",
       "        -0.01430428,  0.01846396, -0.0078736 ,  0.016032  ,  0.00035503,\n",
       "        -0.01190798,  0.04012442,  0.01883467,  0.04522011, -0.01449949,\n",
       "        -0.03001779, -0.00249273, -0.02841418, -0.00248689,  0.00213164,\n",
       "         0.0275041 , -0.00268545, -0.02696519, -0.0256143 ,  0.04558206,\n",
       "         0.01093491, -0.0435736 , -0.02118702, -0.03740589, -0.01277192,\n",
       "        -0.01184295,  0.01118073, -0.02949759, -0.03372539,  0.0257963 ,\n",
       "        -0.02954398, -0.04451137,  0.02534763, -0.03105428, -0.02613335,\n",
       "        -0.01220289, -0.0191015 , -0.05100981, -0.02722673, -0.01289848,\n",
       "        -0.01947117, -0.03468841,  0.03323006, -0.01857714, -0.01045425,\n",
       "         0.01990999, -0.00738005, -0.0051358 ,  0.03093305,  0.01359386,\n",
       "        -0.05489255,  0.00330634, -0.0287351 ,  0.00463344, -0.03350774,\n",
       "         0.01107038,  0.06017645, -0.02311492,  0.00267986, -0.01855925,\n",
       "         0.00429651, -0.04546535, -0.02369248, -0.02184992, -0.00122784,\n",
       "        -0.02954224, -0.01836123, -0.03806441, -0.02640758, -0.01002974,\n",
       "         0.00010102, -0.02851653, -0.02552877, -0.00124882, -0.01711201,\n",
       "        -0.00439682, -0.00936051, -0.03517843,  0.04580786, -0.01955444,\n",
       "        -0.04364702, -0.01953874,  0.00372892], dtype=float32),\n",
       " array([[-2.10649863e-01],\n",
       "        [-7.74120167e-02],\n",
       "        [ 1.25294387e-01],\n",
       "        [ 2.73977276e-02],\n",
       "        [-4.41463441e-02],\n",
       "        [-2.31728926e-02],\n",
       "        [-1.83246359e-01],\n",
       "        [ 2.29375869e-01],\n",
       "        [-2.94586569e-01],\n",
       "        [-1.28139496e-01],\n",
       "        [ 1.96314931e-01],\n",
       "        [ 1.35332406e-01],\n",
       "        [-1.25740498e-01],\n",
       "        [-1.42691612e-01],\n",
       "        [-1.52023006e-02],\n",
       "        [-3.57350260e-02],\n",
       "        [-1.28409520e-01],\n",
       "        [-1.32900044e-01],\n",
       "        [ 6.78853631e-01],\n",
       "        [ 1.47251219e-01],\n",
       "        [-8.41623545e-02],\n",
       "        [-1.53178081e-01],\n",
       "        [ 1.26868561e-01],\n",
       "        [ 5.20802662e-02],\n",
       "        [ 1.56360388e-01],\n",
       "        [ 1.19913913e-01],\n",
       "        [ 5.39322160e-02],\n",
       "        [ 4.16186489e-02],\n",
       "        [-1.64227530e-01],\n",
       "        [-1.87524199e-01],\n",
       "        [ 1.75147340e-01],\n",
       "        [-1.57083988e-01],\n",
       "        [-1.10263050e-01],\n",
       "        [-8.75680745e-02],\n",
       "        [ 1.32216443e-03],\n",
       "        [-8.73870999e-02],\n",
       "        [ 1.67188033e-01],\n",
       "        [-1.70520902e-01],\n",
       "        [-8.63358453e-02],\n",
       "        [-1.00893714e-02],\n",
       "        [ 3.26004088e-01],\n",
       "        [ 2.60196656e-01],\n",
       "        [ 1.90495640e-01],\n",
       "        [-1.07314244e-01],\n",
       "        [-2.09721029e-02],\n",
       "        [ 1.34246394e-01],\n",
       "        [ 8.64561200e-02],\n",
       "        [ 2.19898775e-01],\n",
       "        [ 3.72323543e-02],\n",
       "        [-2.00104490e-01],\n",
       "        [-1.10870302e-01],\n",
       "        [-2.03348622e-02],\n",
       "        [ 5.33880517e-02],\n",
       "        [ 4.22158539e-02],\n",
       "        [ 1.25268474e-01],\n",
       "        [-4.63154987e-02],\n",
       "        [-1.47104979e-01],\n",
       "        [-1.67478889e-01],\n",
       "        [ 1.80827945e-01],\n",
       "        [-1.09384224e-01],\n",
       "        [ 1.29419649e-02],\n",
       "        [-1.06887966e-01],\n",
       "        [-7.64410496e-02],\n",
       "        [ 3.82165797e-02],\n",
       "        [ 1.11280538e-01],\n",
       "        [-2.35938475e-01],\n",
       "        [ 1.64797559e-01],\n",
       "        [ 1.37555478e-02],\n",
       "        [-2.23110273e-01],\n",
       "        [ 2.93502212e-01],\n",
       "        [-1.07447945e-01],\n",
       "        [-1.02044120e-01],\n",
       "        [-8.89604315e-02],\n",
       "        [ 2.82700453e-02],\n",
       "        [ 2.22462684e-01],\n",
       "        [-6.03387803e-02],\n",
       "        [ 7.18450844e-02],\n",
       "        [ 3.02240223e-01],\n",
       "        [-1.71339512e-01],\n",
       "        [ 1.37881234e-01],\n",
       "        [-1.03685617e-01],\n",
       "        [-1.53648114e-04],\n",
       "        [ 9.21845138e-02],\n",
       "        [-1.42694905e-01],\n",
       "        [ 1.61265716e-01],\n",
       "        [-5.20413406e-02],\n",
       "        [-3.29308324e-02],\n",
       "        [ 1.59956247e-01],\n",
       "        [ 6.02597520e-02],\n",
       "        [-3.06927282e-02],\n",
       "        [ 4.24271822e-02],\n",
       "        [ 4.25671116e-02],\n",
       "        [ 3.04585509e-02],\n",
       "        [-2.03696061e-02],\n",
       "        [ 2.52367482e-02],\n",
       "        [ 1.38803606e-03],\n",
       "        [ 6.84794709e-02],\n",
       "        [-7.02512085e-01],\n",
       "        [-2.28923298e-02],\n",
       "        [ 1.31632313e-01],\n",
       "        [-1.16569297e-02],\n",
       "        [-2.85304040e-02],\n",
       "        [-1.94384307e-02],\n",
       "        [-6.31777644e-02],\n",
       "        [-5.78474216e-02],\n",
       "        [-1.88954338e-01],\n",
       "        [-1.47222042e-01],\n",
       "        [ 1.50108993e-01],\n",
       "        [-8.14492106e-02],\n",
       "        [ 1.68578848e-01],\n",
       "        [ 1.06740199e-01],\n",
       "        [ 1.38475105e-01],\n",
       "        [-2.58767754e-01],\n",
       "        [ 8.27522874e-02],\n",
       "        [ 7.21026305e-03],\n",
       "        [ 1.36756495e-01],\n",
       "        [ 7.99443126e-02],\n",
       "        [-1.15941092e-01],\n",
       "        [ 8.04371089e-02],\n",
       "        [ 4.86654043e-02],\n",
       "        [-1.32645205e-01],\n",
       "        [-1.39841974e-01],\n",
       "        [ 1.29313243e-03],\n",
       "        [-1.75724372e-01],\n",
       "        [-9.95568186e-02],\n",
       "        [ 1.08611204e-01],\n",
       "        [-1.38905898e-01],\n",
       "        [-8.37571472e-02]], dtype=float32),\n",
       " array([-1.8613397], dtype=float32)]"
      ]
     },
     "execution_count": 4,
     "metadata": {},
     "output_type": "execute_result"
    }
   ],
   "source": [
    "model.get_weights() # show all the weights"
   ]
  },
  {
   "cell_type": "code",
   "execution_count": 5,
   "id": "480d776d",
   "metadata": {},
   "outputs": [],
   "source": [
    "## Step 2: Helper Functions\n",
    "\n",
    "# Function to decode reviews\n",
    "def decode_review(encoded_review):\n",
    "    return ' '.join([reverse_word_index.get(i - 3, '?') for i in encoded_review])\n",
    "\n",
    "# Function to preprocess user input\n",
    "def preprocess_test(text:str):\n",
    "    words = text.lower().split()\n",
    "    encoded_review = [word_index.get(word, 2) + 3 for word in words]\n",
    "    padded_review = sequence.pad_sequences([encoded_review], maxlen=500)\n",
    "    return padded_review\n"
   ]
  },
  {
   "cell_type": "code",
   "execution_count": null,
   "id": "3d032eab",
   "metadata": {},
   "outputs": [],
   "source": []
  },
  {
   "cell_type": "code",
   "execution_count": null,
   "id": "45ed14d1",
   "metadata": {},
   "outputs": [],
   "source": []
  },
  {
   "cell_type": "code",
   "execution_count": null,
   "id": "9c8cc325",
   "metadata": {},
   "outputs": [],
   "source": []
  },
  {
   "cell_type": "code",
   "execution_count": null,
   "id": "60fc5825",
   "metadata": {},
   "outputs": [],
   "source": []
  },
  {
   "cell_type": "code",
   "execution_count": null,
   "id": "93fcbb4e",
   "metadata": {},
   "outputs": [],
   "source": []
  },
  {
   "cell_type": "code",
   "execution_count": null,
   "metadata": {},
   "outputs": [],
   "source": []
  },
  {
   "cell_type": "code",
   "execution_count": null,
   "id": "1b27952e",
   "metadata": {},
   "outputs": [],
   "source": []
  },
  {
   "cell_type": "code",
   "execution_count": null,
   "id": "14f21f4d",
   "metadata": {},
   "outputs": [],
   "source": []
  }
 ],
 "metadata": {
  "kernelspec": {
   "display_name": "Python 3",
   "language": "python",
   "name": "python3"
  },
  "language_info": {
   "codemirror_mode": {
    "name": "ipython",
    "version": 3
   },
   "file_extension": ".py",
   "mimetype": "text/x-python",
   "name": "python",
   "nbconvert_exporter": "python",
   "pygments_lexer": "ipython3",
   "version": "3.11.0"
  }
 },
 "nbformat": 4,
 "nbformat_minor": 5
}
